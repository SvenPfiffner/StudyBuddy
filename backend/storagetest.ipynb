{
 "cells": [
  {
   "cell_type": "code",
   "execution_count": 1,
   "id": "88d72c24",
   "metadata": {},
   "outputs": [],
   "source": [
    "from storageservice.storageservice import StorageService"
   ]
  },
  {
   "cell_type": "code",
   "execution_count": 2,
   "id": "065a2fb6",
   "metadata": {},
   "outputs": [],
   "source": [
    "ss = StorageService('storageservice/database.db')"
   ]
  },
  {
   "cell_type": "code",
   "execution_count": 3,
   "id": "a8e754a4",
   "metadata": {},
   "outputs": [
    {
     "data": {
      "text/plain": [
       "1"
      ]
     },
     "execution_count": 3,
     "metadata": {},
     "output_type": "execute_result"
    }
   ],
   "source": [
    "ss.create_user('svenp')"
   ]
  },
  {
   "cell_type": "code",
   "execution_count": 4,
   "id": "189cd454",
   "metadata": {},
   "outputs": [
    {
     "data": {
      "text/plain": [
       "1"
      ]
     },
     "execution_count": 4,
     "metadata": {},
     "output_type": "execute_result"
    }
   ],
   "source": [
    "ss.create_project(1, 'AML', 'This is a test summary for AML project.')"
   ]
  },
  {
   "cell_type": "code",
   "execution_count": 6,
   "id": "5f6c57e2",
   "metadata": {},
   "outputs": [
    {
     "data": {
      "text/plain": [
       "2"
      ]
     },
     "execution_count": 6,
     "metadata": {},
     "output_type": "execute_result"
    }
   ],
   "source": [
    "ss.create_document(1, 'Lecture 2 Notes', 'These are the notes for lecture 2 on AML.')"
   ]
  },
  {
   "cell_type": "code",
   "execution_count": 6,
   "id": "e58e977b",
   "metadata": {},
   "outputs": [
    {
     "data": {
      "text/plain": [
       "1"
      ]
     },
     "execution_count": 6,
     "metadata": {},
     "output_type": "execute_result"
    }
   ],
   "source": [
    "ss.add_flashcard(1, 'What is AML?', 'AML stands for Anti-Money Laundering.')"
   ]
  },
  {
   "cell_type": "code",
   "execution_count": 7,
   "id": "5f86cee4",
   "metadata": {},
   "outputs": [
    {
     "data": {
      "text/plain": [
       "2"
      ]
     },
     "execution_count": 7,
     "metadata": {},
     "output_type": "execute_result"
    }
   ],
   "source": [
    "ss.add_flashcard(1, 'Why?', 'Just because')"
   ]
  },
  {
   "cell_type": "code",
   "execution_count": 8,
   "id": "0c3cc678",
   "metadata": {},
   "outputs": [
    {
     "data": {
      "text/plain": [
       "3"
      ]
     },
     "execution_count": 8,
     "metadata": {},
     "output_type": "execute_result"
    }
   ],
   "source": [
    "ss.add_flashcard(1, \"Skibbidy bop\", \"No one knows\")"
   ]
  },
  {
   "cell_type": "code",
   "execution_count": 10,
   "id": "88c17b3a",
   "metadata": {},
   "outputs": [
    {
     "data": {
      "text/plain": [
       "1"
      ]
     },
     "execution_count": 10,
     "metadata": {},
     "output_type": "execute_result"
    }
   ],
   "source": [
    "ss.add_exam_question(1, \"Why is this happening?\", \"Markus\", \"Rühl\", \"Forever\", \"alone\", \"C\")"
   ]
  },
  {
   "cell_type": "code",
   "execution_count": 3,
   "id": "1e41b253",
   "metadata": {},
   "outputs": [
    {
     "data": {
      "text/plain": [
       "[Flashcard(question='What is AML?', answer='AML stands for Anti-Money Laundering.'),\n",
       " Flashcard(question='Why?', answer='Just because'),\n",
       " Flashcard(question='Skibbidy bop', answer='No one knows')]"
      ]
     },
     "execution_count": 3,
     "metadata": {},
     "output_type": "execute_result"
    }
   ],
   "source": [
    "ss.list_flashcards(1)"
   ]
  },
  {
   "cell_type": "code",
   "execution_count": 4,
   "id": "6ae4f732",
   "metadata": {},
   "outputs": [
    {
     "data": {
      "text/plain": [
       "[ExamQuestion(question='Why is this happening?', options=['Markus', 'Rühl', 'Forever', 'alone'], correctAnswer='C')]"
      ]
     },
     "execution_count": 4,
     "metadata": {},
     "output_type": "execute_result"
    }
   ],
   "source": [
    "ss.list_exam_questions(1)"
   ]
  },
  {
   "cell_type": "code",
   "execution_count": 7,
   "id": "5bf3d320",
   "metadata": {},
   "outputs": [
    {
     "data": {
      "text/plain": [
       "[<sqlite3.Row at 0x79e045ba0a00>, <sqlite3.Row at 0x79e03c47f9d0>]"
      ]
     },
     "execution_count": 7,
     "metadata": {},
     "output_type": "execute_result"
    }
   ],
   "source": [
    "ss.list_documents(1)"
   ]
  },
  {
   "cell_type": "code",
   "execution_count": null,
   "id": "044b611f",
   "metadata": {},
   "outputs": [],
   "source": []
  }
 ],
 "metadata": {
  "kernelspec": {
   "display_name": ".venv",
   "language": "python",
   "name": "python3"
  },
  "language_info": {
   "codemirror_mode": {
    "name": "ipython",
    "version": 3
   },
   "file_extension": ".py",
   "mimetype": "text/x-python",
   "name": "python",
   "nbconvert_exporter": "python",
   "pygments_lexer": "ipython3",
   "version": "3.11.7"
  }
 },
 "nbformat": 4,
 "nbformat_minor": 5
}
